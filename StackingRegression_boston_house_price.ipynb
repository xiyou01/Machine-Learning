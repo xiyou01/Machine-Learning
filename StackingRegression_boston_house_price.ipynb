{
 "cells": [
  {
   "cell_type": "code",
   "execution_count": 1,
   "id": "1bd09068",
   "metadata": {},
   "outputs": [],
   "source": [
    "# compare machine learning models for regression\n",
    "from numpy import mean\n",
    "from numpy import std\n",
    "from sklearn import metrics \n",
    "from sklearn.model_selection import cross_val_score\n",
    "from sklearn.model_selection import RepeatedKFold\n",
    "from sklearn.linear_model import LinearRegression\n",
    "from sklearn.tree import DecisionTreeRegressor\n",
    "from sklearn.svm import SVR\n",
    "from matplotlib import pyplot"
   ]
  },
  {
   "cell_type": "code",
   "execution_count": 2,
   "id": "9df57ffc",
   "metadata": {},
   "outputs": [],
   "source": [
    "# get a list of models to evaluate\n",
    "def get_models():\n",
    "\tmodels = dict()\n",
    "  \n",
    "\tmodels['cart'] = DecisionTreeRegressor()\n",
    "\tmodels['svm'] = SVR()\n",
    "  \n",
    "\treturn models"
   ]
  },
  {
   "cell_type": "code",
   "execution_count": 3,
   "id": "727900fd",
   "metadata": {},
   "outputs": [],
   "source": [
    "# evaluate a given model using cross-validation\n",
    "def evaluate_model(model, X, y):\n",
    "\tcv = RepeatedKFold(n_splits=10, n_repeats=3, random_state=1)\n",
    "\tscores = cross_val_score(model, X, y, scoring='neg_mean_absolute_error', cv=cv, n_jobs=-1, error_score='raise')\n",
    "\treturn scores"
   ]
  },
  {
   "cell_type": "code",
   "execution_count": 7,
   "id": "e8d14675",
   "metadata": {},
   "outputs": [],
   "source": [
    "# use the dataset\n",
    "import pandas as pd\n",
    "dataset= pd.read_csv('/Users/chensiyu/Desktop/dataset/boston_house_prices.csv')\n",
    "X = dataset.drop('MEDV', axis=1)\n",
    "y = dataset['MEDV']  # continuous, regression task"
   ]
  },
  {
   "cell_type": "code",
   "execution_count": 8,
   "id": "0b1265e2",
   "metadata": {},
   "outputs": [],
   "source": [
    "from sklearn.model_selection import train_test_split\n",
    "X_train, X_test, y_train, y_test = train_test_split(X, y, test_size=0.2, random_state=0)"
   ]
  },
  {
   "cell_type": "code",
   "execution_count": 9,
   "id": "7d183cd5",
   "metadata": {},
   "outputs": [
    {
     "name": "stdout",
     "output_type": "stream",
     "text": [
      ">cart -2.975 (0.546)\n",
      ">svm -5.318 (0.789)\n"
     ]
    },
    {
     "data": {
      "image/png": "[encoded data removed]",
      "text/plain": [
       "<Figure size 432x288 with 1 Axes>"
      ]
     },
     "metadata": {
      "needs_background": "light"
     },
     "output_type": "display_data"
    }
   ],
   "source": [
    "# get the models to evaluate\n",
    "models = get_models()\n",
    "# evaluate the models and store results\n",
    "results, names = list(), list()\n",
    "for name, model in models.items():\n",
    "\tscores = evaluate_model(model, X, y)\n",
    "\tresults.append(scores)\n",
    "\tnames.append(name)\n",
    "\tprint('>%s %.3f (%.3f)' % (name, mean(scores), std(scores)))\n",
    "# plot model performance for comparison\n",
    "pyplot.boxplot(results, labels=names, showmeans=True)\n",
    "pyplot.show()"
   ]
  },
  {
   "cell_type": "code",
   "execution_count": 10,
   "id": "e7753757",
   "metadata": {},
   "outputs": [],
   "source": [
    "# apply stacking method on multiple regression models\n",
    "from sklearn.ensemble import StackingRegressor"
   ]
  },
  {
   "cell_type": "code",
   "execution_count": 11,
   "id": "2df50d9b",
   "metadata": {},
   "outputs": [],
   "source": [
    "X = dataset.drop('MEDV', axis=1)\n",
    "y = dataset['MEDV']  # continuous, regression task"
   ]
  },
  {
   "cell_type": "code",
   "execution_count": 12,
   "id": "a4657eef",
   "metadata": {},
   "outputs": [],
   "source": [
    "# get a stacking ensemble of models\n",
    "def get_stacking():\n",
    "\t# define the base models\n",
    "\tlevel0 = list()\n",
    "\t \n",
    "\tlevel0.append(('cart', DecisionTreeRegressor()))\n",
    "\tlevel0.append(('svm', SVR()))\n",
    "\t# define meta learner model\n",
    "\tlevel1 = LinearRegression()\n",
    "\t# define the stacking ensemble\n",
    "\tmodel = StackingRegressor(estimators=level0, final_estimator=level1, cv=5)\n",
    "\treturn model"
   ]
  },
  {
   "cell_type": "code",
   "execution_count": 13,
   "id": "76179a9b",
   "metadata": {},
   "outputs": [],
   "source": [
    "# get a list of models to evaluate\n",
    "def get_models():\n",
    "\tmodels = dict()\n",
    " \n",
    "\tmodels['cart'] = DecisionTreeRegressor()\n",
    "\tmodels['svm'] = SVR()\n",
    "\tmodels['stacking'] = get_stacking()\n",
    "\treturn models\n",
    " "
   ]
  },
  {
   "cell_type": "code",
   "execution_count": 14,
   "id": "a053989a",
   "metadata": {},
   "outputs": [],
   "source": [
    "# evaluate a given model using cross-validation\n",
    "def evaluate_model(model, X, y):\n",
    "\tcv = RepeatedKFold(n_splits=10, n_repeats=3, random_state=1)\n",
    "\tscores = cross_val_score(model, X, y, scoring='neg_mean_absolute_error', cv=cv, n_jobs=-1, error_score='raise')\n",
    "\treturn scores"
   ]
  },
  {
   "cell_type": "code",
   "execution_count": 15,
   "id": "49b211eb",
   "metadata": {},
   "outputs": [
    {
     "name": "stdout",
     "output_type": "stream",
     "text": [
      ">cart -2.921 (0.531)\n",
      ">svm -5.318 (0.789)\n",
      ">stacking -3.015 (0.497)\n"
     ]
    },
    {
     "data": {
      "image/png": "[encoded data removed]",
      "text/plain": [
       "<Figure size 432x288 with 1 Axes>"
      ]
     },
     "metadata": {
      "needs_background": "light"
     },
     "output_type": "display_data"
    }
   ],
   "source": [
    "# get the models to evaluate\n",
    "models = get_models()\n",
    "# evaluate the models and store results\n",
    "results, names = list(), list()\n",
    "for name, model in models.items():\n",
    "\tscores = evaluate_model(model, X, y)\n",
    "\tresults.append(scores)\n",
    "\tnames.append(name)\n",
    "\tprint('>%s %.3f (%.3f)' % (name, mean(scores), std(scores)))\n",
    "# plot model performance for comparison\n",
    "pyplot.boxplot(results, labels=names, showmeans=True)\n",
    "pyplot.show()"
   ]
  },
  {
   "cell_type": "code",
   "execution_count": 16,
   "id": "bbd8b003",
   "metadata": {},
   "outputs": [],
   "source": [
    "# evaluate a given model using cross-validation\n",
    "def evaluate_model(model, X, y,mc):\n",
    "  RMSE = [] ### Blank vector\n",
    "  for i in range(mc):\n",
    "    X_train,X_test,y_train,y_test=train_test_split(X,y,test_size=0.3)# split dataset\n",
    "    model_dt=DecisionTreeRegressor() # model\n",
    "    m = model.fit(X_train,y_train) # fit the model\n",
    "    y_pred = m.predict(X_test) # predict\n",
    "    rmse=np.sqrt(metrics.mean_squared_error(y_test, y_pred)) # compute rmse\n",
    "    RMSE.append(rmse) # append rmse\n",
    "    avg=np.mean(RMSE)   # average of rmse to stablize the result\n",
    "  return avg"
   ]
  },
  {
   "cell_type": "code",
   "execution_count": 17,
   "id": "7be92614",
   "metadata": {},
   "outputs": [
    {
     "name": "stdout",
     "output_type": "stream",
     "text": [
      ">cart 4.647 (0.000)\n",
      ">svm 8.280 (0.000)\n",
      ">stacking 4.540 (0.000)\n"
     ]
    }
   ],
   "source": [
    "import numpy as np\n",
    "from numpy import mean, std\n",
    "# get the models to evaluate\n",
    "models = get_models()\n",
    "# evaluate the models and store results\n",
    "results, names = list(), list()\n",
    "for name, model in models.items():\n",
    "\tscores = evaluate_model(model, X, y,100)\n",
    "\tresults.append(scores)\n",
    "\tnames.append(name)\n",
    "\tprint('>%s %.3f (%.3f)' % (name, mean(scores), std(scores)))\n",
    "# plot model performance for comparison"
   ]
  }
 ],
 "metadata": {
  "kernelspec": {
   "display_name": "Python 3",
   "language": "python",
   "name": "python3"
  },
  "language_info": {
   "codemirror_mode": {
    "name": "ipython",
    "version": 3
   },
   "file_extension": ".py",
   "mimetype": "text/x-python",
   "name": "python",
   "nbconvert_exporter": "python",
   "pygments_lexer": "ipython3",
   "version": "3.8.8"
  }
 },
 "nbformat": 4,
 "nbformat_minor": 5
}
