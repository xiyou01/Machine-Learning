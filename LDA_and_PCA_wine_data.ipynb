{
 "cells": [
  {
   "cell_type": "code",
   "execution_count": 4,
   "id": "14923800",
   "metadata": {},
   "outputs": [],
   "source": [
    "import pandas as pd\n",
    "\n",
    "df_wine = pd.read_csv(\n",
    "    'https://archive.ics.uci.edu/ml/machine-learning-databases/wine/wine.data', \n",
    "    header=None)\n",
    "df_wine.columns = ['Class label', 'Alcohol', 'Malic acid', 'Ash',\n",
    "       'Alcalinity of ash', 'Magnesium', 'Total phenols', 'Flavanoids',\n",
    "       'Nonflavanoid phenols', 'Proanthocyanins', 'Color intensity', 'Hue',\n",
    "       'OD280/OD315 of diluted wines','Proline']"
   ]
  },
  {
   "cell_type": "code",
   "execution_count": 5,
   "id": "dfdd3ada",
   "metadata": {},
   "outputs": [
    {
     "data": {
      "text/html": [
       "<div>\n",
       "<style scoped>\n",
       "    .dataframe tbody tr th:only-of-type {\n",
       "        vertical-align: middle;\n",
       "    }\n",
       "\n",
       "    .dataframe tbody tr th {\n",
       "        vertical-align: top;\n",
       "    }\n",
       "\n",
       "    .dataframe thead th {\n",
       "        text-align: right;\n",
       "    }\n",
       "</style>\n",
       "<table border=\"1\" class=\"dataframe\">\n",
       "  <thead>\n",
       "    <tr style=\"text-align: right;\">\n",
       "      <th></th>\n",
       "      <th>Class label</th>\n",
       "      <th>Alcohol</th>\n",
       "      <th>Malic acid</th>\n",
       "      <th>Ash</th>\n",
       "      <th>Alcalinity of ash</th>\n",
       "      <th>Magnesium</th>\n",
       "      <th>Total phenols</th>\n",
       "      <th>Flavanoids</th>\n",
       "      <th>Nonflavanoid phenols</th>\n",
       "      <th>Proanthocyanins</th>\n",
       "      <th>Color intensity</th>\n",
       "      <th>Hue</th>\n",
       "      <th>OD280/OD315 of diluted wines</th>\n",
       "      <th>Proline</th>\n",
       "    </tr>\n",
       "  </thead>\n",
       "  <tbody>\n",
       "    <tr>\n",
       "      <th>0</th>\n",
       "      <td>1</td>\n",
       "      <td>14.23</td>\n",
       "      <td>1.71</td>\n",
       "      <td>2.43</td>\n",
       "      <td>15.6</td>\n",
       "      <td>127</td>\n",
       "      <td>2.80</td>\n",
       "      <td>3.06</td>\n",
       "      <td>0.28</td>\n",
       "      <td>2.29</td>\n",
       "      <td>5.64</td>\n",
       "      <td>1.04</td>\n",
       "      <td>3.92</td>\n",
       "      <td>1065</td>\n",
       "    </tr>\n",
       "    <tr>\n",
       "      <th>1</th>\n",
       "      <td>1</td>\n",
       "      <td>13.20</td>\n",
       "      <td>1.78</td>\n",
       "      <td>2.14</td>\n",
       "      <td>11.2</td>\n",
       "      <td>100</td>\n",
       "      <td>2.65</td>\n",
       "      <td>2.76</td>\n",
       "      <td>0.26</td>\n",
       "      <td>1.28</td>\n",
       "      <td>4.38</td>\n",
       "      <td>1.05</td>\n",
       "      <td>3.40</td>\n",
       "      <td>1050</td>\n",
       "    </tr>\n",
       "  </tbody>\n",
       "</table>\n",
       "</div>"
      ],
      "text/plain": [
       "   Class label  Alcohol  Malic acid   Ash  Alcalinity of ash  Magnesium  \\\n",
       "0            1    14.23        1.71  2.43               15.6        127   \n",
       "1            1    13.20        1.78  2.14               11.2        100   \n",
       "\n",
       "   Total phenols  Flavanoids  Nonflavanoid phenols  Proanthocyanins  \\\n",
       "0           2.80        3.06                  0.28             2.29   \n",
       "1           2.65        2.76                  0.26             1.28   \n",
       "\n",
       "   Color intensity   Hue  OD280/OD315 of diluted wines  Proline  \n",
       "0             5.64  1.04                          3.92     1065  \n",
       "1             4.38  1.05                          3.40     1050  "
      ]
     },
     "execution_count": 5,
     "metadata": {},
     "output_type": "execute_result"
    }
   ],
   "source": [
    "df_wine.head(2)"
   ]
  },
  {
   "cell_type": "code",
   "execution_count": 8,
   "id": "e9d30665",
   "metadata": {},
   "outputs": [
    {
     "name": "stdout",
     "output_type": "stream",
     "text": [
      "Class labels: [1 2 3]\n"
     ]
    }
   ],
   "source": [
    "import numpy as np\n",
    "print('Class labels:', np.unique(df_wine['Class label']))"
   ]
  },
  {
   "cell_type": "code",
   "execution_count": 9,
   "id": "9e64fdfc",
   "metadata": {},
   "outputs": [],
   "source": [
    "# data preparation\n",
    "from sklearn.model_selection import train_test_split\n",
    "X = df_wine.iloc[:, 1:].values\n",
    "y= df_wine.iloc[:, 0].values\n",
    "X_train, X_test, y_train, y_test = \\\n",
    "        train_test_split(X, y, test_size=0.3, random_state=0)"
   ]
  },
  {
   "cell_type": "code",
   "execution_count": 10,
   "id": "21476179",
   "metadata": {},
   "outputs": [
    {
     "name": "stdout",
     "output_type": "stream",
     "text": [
      "Accuracy using 1000 MC run: 0.9067222222222222\n"
     ]
    }
   ],
   "source": [
    "# apply decision tree on the original dataset\n",
    "from sklearn.metrics import accuracy_score,confusion_matrix,\\\n",
    " classification_report\n",
    "from sklearn.tree import DecisionTreeClassifier\n",
    "acc = [] ### Blank vector\n",
    "for i in range(1000):\n",
    "  X_train,X_test,y_train,y_test=train_test_split(X,y,test_size=0.3)# split dataset\n",
    "  model_dt=DecisionTreeClassifier() # model\n",
    "  dt = model_dt.fit(X_train,y_train) # fit the model\n",
    "  YPred = dt.predict(X_test) # predict\n",
    "  a = accuracy_score(y_test,YPred) # compute accuracy\n",
    "  acc.append(a) # append accuracy\n",
    "print(\"Accuracy using 1000 MC run:\", np.mean(acc))  # average of accuracy to stablize the result\n"
   ]
  },
  {
   "cell_type": "code",
   "execution_count": 11,
   "id": "27f324c7",
   "metadata": {},
   "outputs": [],
   "source": [
    "# implement LDA for dimension reduction and the perform dt classifier\n",
    "from sklearn.discriminant_analysis import LinearDiscriminantAnalysis\n",
    "lda_model = LinearDiscriminantAnalysis()\n",
    "X_lda = lda_model.fit_transform(X, y)"
   ]
  },
  {
   "cell_type": "code",
   "execution_count": 12,
   "id": "2def4aac",
   "metadata": {},
   "outputs": [
    {
     "data": {
      "text/plain": [
       "(178, 2)"
      ]
     },
     "execution_count": 12,
     "metadata": {},
     "output_type": "execute_result"
    }
   ],
   "source": [
    "X_lda.shape"
   ]
  },
  {
   "cell_type": "code",
   "execution_count": null,
   "id": "887f1037",
   "metadata": {},
   "outputs": [],
   "source": [
    "LDA=pd.DataFrame(X_lda)\n",
    "LDA.columns=['lda1','lda2']"
   ]
  },
  {
   "cell_type": "code",
   "execution_count": 13,
   "id": "a0fe6f62",
   "metadata": {},
   "outputs": [
    {
     "data": {
      "text/plain": [
       "array([0.68747889, 0.31252111])"
      ]
     },
     "execution_count": 13,
     "metadata": {},
     "output_type": "execute_result"
    }
   ],
   "source": [
    "lda_model.explained_variance_ratio_"
   ]
  },
  {
   "cell_type": "code",
   "execution_count": 14,
   "id": "78c86abf",
   "metadata": {},
   "outputs": [
    {
     "name": "stdout",
     "output_type": "stream",
     "text": [
      "Accuracy using 1000 MC run: 0.9913888888888888\n"
     ]
    }
   ],
   "source": [
    "# apply dt classifier on the transformed data using LDA\n",
    "from sklearn.model_selection import train_test_split \n",
    "acc = [] ### Blank vector\n",
    "for i in range(1000):\n",
    "  X_train,X_test,y_train,y_test=train_test_split(X_lda,y,test_size=0.3)# split dataset\n",
    "  model_dt=DecisionTreeClassifier() # model\n",
    "  dt = model_dt.fit(X_train,y_train) # fit the model\n",
    "  YPred = dt.predict(X_test) # predict\n",
    "  a = accuracy_score(y_test,YPred) # compute accuracy\n",
    "  acc.append(a) # append accuracy\n",
    "print(\"Accuracy using 1000 MC run:\", np.mean(acc))  # average of accuracy to stablize the result\n"
   ]
  },
  {
   "cell_type": "code",
   "execution_count": 15,
   "id": "af56b37b",
   "metadata": {},
   "outputs": [],
   "source": [
    "# Principal Component Analysis\n",
    "from numpy import array\n",
    "from sklearn.decomposition import PCA"
   ]
  },
  {
   "cell_type": "code",
   "execution_count": 16,
   "id": "14bd5050",
   "metadata": {},
   "outputs": [
    {
     "data": {
      "text/html": [
       "<div>\n",
       "<style scoped>\n",
       "    .dataframe tbody tr th:only-of-type {\n",
       "        vertical-align: middle;\n",
       "    }\n",
       "\n",
       "    .dataframe tbody tr th {\n",
       "        vertical-align: top;\n",
       "    }\n",
       "\n",
       "    .dataframe thead th {\n",
       "        text-align: right;\n",
       "    }\n",
       "</style>\n",
       "<table border=\"1\" class=\"dataframe\">\n",
       "  <thead>\n",
       "    <tr style=\"text-align: right;\">\n",
       "      <th></th>\n",
       "      <th>pca1</th>\n",
       "      <th>pca2</th>\n",
       "      <th>pca3</th>\n",
       "      <th>pca4</th>\n",
       "    </tr>\n",
       "  </thead>\n",
       "  <tbody>\n",
       "    <tr>\n",
       "      <th>0</th>\n",
       "      <td>0.001659</td>\n",
       "      <td>0.001203</td>\n",
       "      <td>-0.016874</td>\n",
       "      <td>-0.141447</td>\n",
       "    </tr>\n",
       "    <tr>\n",
       "      <th>1</th>\n",
       "      <td>-0.000681</td>\n",
       "      <td>0.002155</td>\n",
       "      <td>-0.122003</td>\n",
       "      <td>-0.160390</td>\n",
       "    </tr>\n",
       "    <tr>\n",
       "      <th>2</th>\n",
       "      <td>0.000195</td>\n",
       "      <td>0.004594</td>\n",
       "      <td>-0.051987</td>\n",
       "      <td>0.009773</td>\n",
       "    </tr>\n",
       "    <tr>\n",
       "      <th>3</th>\n",
       "      <td>-0.004671</td>\n",
       "      <td>0.026450</td>\n",
       "      <td>-0.938593</td>\n",
       "      <td>0.330965</td>\n",
       "    </tr>\n",
       "    <tr>\n",
       "      <th>4</th>\n",
       "      <td>0.017868</td>\n",
       "      <td>0.999344</td>\n",
       "      <td>0.029780</td>\n",
       "      <td>0.005394</td>\n",
       "    </tr>\n",
       "  </tbody>\n",
       "</table>\n",
       "</div>"
      ],
      "text/plain": [
       "       pca1      pca2      pca3      pca4\n",
       "0  0.001659  0.001203 -0.016874 -0.141447\n",
       "1 -0.000681  0.002155 -0.122003 -0.160390\n",
       "2  0.000195  0.004594 -0.051987  0.009773\n",
       "3 -0.004671  0.026450 -0.938593  0.330965\n",
       "4  0.017868  0.999344  0.029780  0.005394"
      ]
     },
     "execution_count": 16,
     "metadata": {},
     "output_type": "execute_result"
    }
   ],
   "source": [
    "# define a matrix\n",
    " \n",
    "# create the PCA instance\n",
    "pca = PCA(4)\n",
    "# fit on data\n",
    "pca.fit(X)\n",
    "# access values and vectors\n",
    "PCAs=pca.components_\n",
    "df=pd.DataFrame(PCAs)\n",
    "df_pca=df.T  # transpose the dataframe \n",
    "df_pca.columns=['pca1','pca2','pca3','pca4']\n",
    "df_pca.head()"
   ]
  },
  {
   "cell_type": "code",
   "execution_count": 17,
   "id": "abacb401",
   "metadata": {},
   "outputs": [
    {
     "name": "stdout",
     "output_type": "stream",
     "text": [
      "[9.92017895e+04 1.72535266e+02 9.43811370e+00 4.99117861e+00]\n"
     ]
    }
   ],
   "source": [
    "#Variance explained by each component\n",
    "print(pca.explained_variance_)"
   ]
  },
  {
   "cell_type": "code",
   "execution_count": 18,
   "id": "dcac3f96",
   "metadata": {},
   "outputs": [],
   "source": [
    "ratio_var=pca.explained_variance_/sum(pca.explained_variance_)"
   ]
  },
  {
   "cell_type": "code",
   "execution_count": 19,
   "id": "60106ed2",
   "metadata": {},
   "outputs": [],
   "source": [
    "df_new=np.dot(X, df_pca)"
   ]
  },
  {
   "cell_type": "code",
   "execution_count": 20,
   "id": "c803378d",
   "metadata": {},
   "outputs": [
    {
     "name": "stdout",
     "output_type": "stream",
     "text": [
      "Accuracy using 1000 MC run: 0.8805\n"
     ]
    }
   ],
   "source": [
    "# Apply dt classifier on the output of pca and evaluate the accuracy in\n",
    "# 1000 monte carlo runs\n",
    "\n",
    "from sklearn.model_selection import train_test_split\n",
    "acc = [] ### Blank vector\n",
    "for i in range(1000):\n",
    "  X_train,X_test,y_train,y_test=train_test_split(df_new,y,test_size=0.3)# split dataset\n",
    "  model_dt=DecisionTreeClassifier() # model\n",
    "  dt = model_dt.fit(X_train,y_train) # fit the model\n",
    "  YPred = dt.predict(X_test) # predict\n",
    "  a = accuracy_score(y_test,YPred) # compute accuracy\n",
    "  acc.append(a) # append accuracy\n",
    "print(\"Accuracy using 1000 MC run:\", np.mean(acc))  # average of accuracy to stablize the result\n"
   ]
  }
 ],
 "metadata": {
  "kernelspec": {
   "display_name": "Python 3",
   "language": "python",
   "name": "python3"
  },
  "language_info": {
   "codemirror_mode": {
    "name": "ipython",
    "version": 3
   },
   "file_extension": ".py",
   "mimetype": "text/x-python",
   "name": "python",
   "nbconvert_exporter": "python",
   "pygments_lexer": "ipython3",
   "version": "3.8.8"
  }
 },
 "nbformat": 4,
 "nbformat_minor": 5
}
